{
 "cells": [
  {
   "cell_type": "code",
   "execution_count": null,
   "id": "ff327967",
   "metadata": {},
   "outputs": [],
   "source": [
    "import numpy as np\n",
    "import pandas as pd\n",
    "import seaborn as sns\n",
    "import matplotlib.pyplot as plt\n",
    "%matplotlib inline\n",
    "\n",
    "data = pd.read_csv('https://raw.githubusercontent.com/rushirao17/SPPU-Practs/main/iris.csv')"
   ]
  },
  {
   "cell_type": "code",
   "execution_count": null,
   "id": "a95b8e21",
   "metadata": {},
   "outputs": [],
   "source": [
    "data['Species'].value_counts()"
   ]
  },
  {
   "cell_type": "code",
   "execution_count": null,
   "id": "450440a4",
   "metadata": {},
   "outputs": [],
   "source": [
    "print(\"Averages of...\\n\",data.mean())"
   ]
  },
  {
   "cell_type": "code",
   "execution_count": null,
   "id": "a30ab94d",
   "metadata": {},
   "outputs": [],
   "source": [
    "data.median()"
   ]
  },
  {
   "cell_type": "code",
   "execution_count": null,
   "id": "556e2625",
   "metadata": {},
   "outputs": [],
   "source": [
    "data.mode()"
   ]
  },
  {
   "cell_type": "code",
   "execution_count": null,
   "id": "2ca10550",
   "metadata": {},
   "outputs": [],
   "source": [
    "data.std()"
   ]
  },
  {
   "cell_type": "code",
   "execution_count": null,
   "id": "e17dbb08",
   "metadata": {},
   "outputs": [],
   "source": [
    "data.var()"
   ]
  },
  {
   "cell_type": "code",
   "execution_count": null,
   "id": "a301438f",
   "metadata": {},
   "outputs": [],
   "source": [
    "data.skew()"
   ]
  },
  {
   "cell_type": "code",
   "execution_count": null,
   "id": "715dc2b1",
   "metadata": {},
   "outputs": [],
   "source": [
    "g = sns.violinplot(y='Species', x='SepalLengthCm', data=data, inner='quartile')\n",
    "plt.show()"
   ]
  }
 ],
 "metadata": {
  "kernelspec": {
   "display_name": "Python 3 (ipykernel)",
   "language": "python",
   "name": "python3"
  },
  "language_info": {
   "codemirror_mode": {
    "name": "ipython",
    "version": 3
   },
   "file_extension": ".py",
   "mimetype": "text/x-python",
   "name": "python",
   "nbconvert_exporter": "python",
   "pygments_lexer": "ipython3",
   "version": "3.9.13"
  }
 },
 "nbformat": 4,
 "nbformat_minor": 5
}
